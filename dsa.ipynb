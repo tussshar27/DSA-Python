{
  "nbformat": 4,
  "nbformat_minor": 0,
  "metadata": {
    "colab": {
      "provenance": [],
      "authorship_tag": "ABX9TyPY+ghJyyZRgxo799EDfkiy",
      "include_colab_link": true
    },
    "kernelspec": {
      "name": "python3",
      "display_name": "Python 3"
    },
    "language_info": {
      "name": "python"
    }
  },
  "cells": [
    {
      "cell_type": "markdown",
      "metadata": {
        "id": "view-in-github",
        "colab_type": "text"
      },
      "source": [
        "<a href=\"https://colab.research.google.com/github/tussshar27/DSA-Python/blob/master/dsa.ipynb\" target=\"_parent\"><img src=\"https://colab.research.google.com/assets/colab-badge.svg\" alt=\"Open In Colab\"/></a>"
      ]
    },
    {
      "cell_type": "code",
      "source": [
        "import sys"
      ],
      "metadata": {
        "id": "9VkB7Kk38pPT"
      },
      "execution_count": 1,
      "outputs": []
    },
    {
      "cell_type": "code",
      "source": [
        "L =[]\n",
        "\n",
        "sys.getsizeof(L)"
      ],
      "metadata": {
        "colab": {
          "base_uri": "https://localhost:8080/"
        },
        "id": "gCKg7cvk8umN",
        "outputId": "22232653-67f2-431f-dc94-3c8d7866ced9"
      },
      "execution_count": 2,
      "outputs": [
        {
          "output_type": "execute_result",
          "data": {
            "text/plain": [
              "56"
            ]
          },
          "metadata": {},
          "execution_count": 2
        }
      ]
    },
    {
      "cell_type": "code",
      "source": [
        "L.append('Hello')"
      ],
      "metadata": {
        "id": "9qEd-5S__vNG"
      },
      "execution_count": 3,
      "outputs": []
    },
    {
      "cell_type": "code",
      "source": [
        "L"
      ],
      "metadata": {
        "colab": {
          "base_uri": "https://localhost:8080/"
        },
        "id": "twy7Uc9gAEDd",
        "outputId": "78a982df-3c0c-4552-e019-5bdbfd9bf23d"
      },
      "execution_count": 5,
      "outputs": [
        {
          "output_type": "execute_result",
          "data": {
            "text/plain": [
              "['Hello']"
            ]
          },
          "metadata": {},
          "execution_count": 5
        }
      ]
    },
    {
      "cell_type": "code",
      "source": [
        "sys.getsizeof(L)"
      ],
      "metadata": {
        "colab": {
          "base_uri": "https://localhost:8080/"
        },
        "id": "3NIrG9y3_32m",
        "outputId": "4974ae6d-da1e-4efa-bdd6-da7a69d78bf3"
      },
      "execution_count": 4,
      "outputs": [
        {
          "output_type": "execute_result",
          "data": {
            "text/plain": [
              "88"
            ]
          },
          "metadata": {},
          "execution_count": 4
        }
      ]
    },
    {
      "cell_type": "code",
      "source": [
        "L.append('World')"
      ],
      "metadata": {
        "id": "7TiCuGde_9vx"
      },
      "execution_count": 6,
      "outputs": []
    },
    {
      "cell_type": "code",
      "source": [
        "L"
      ],
      "metadata": {
        "colab": {
          "base_uri": "https://localhost:8080/"
        },
        "id": "VtU-j-G3AJc4",
        "outputId": "e0f82f64-c197-4f10-9c7c-a046a12231fa"
      },
      "execution_count": 7,
      "outputs": [
        {
          "output_type": "execute_result",
          "data": {
            "text/plain": [
              "['Hello', 'World']"
            ]
          },
          "metadata": {},
          "execution_count": 7
        }
      ]
    },
    {
      "cell_type": "code",
      "source": [
        "sys.getsizeof(L)"
      ],
      "metadata": {
        "colab": {
          "base_uri": "https://localhost:8080/"
        },
        "id": "LYko-lKHAKtg",
        "outputId": "184e1dbb-2cc8-4cf1-d72c-f81a5f406093"
      },
      "execution_count": 8,
      "outputs": [
        {
          "output_type": "execute_result",
          "data": {
            "text/plain": [
              "88"
            ]
          },
          "metadata": {},
          "execution_count": 8
        }
      ]
    },
    {
      "cell_type": "code",
      "source": [
        "L.append(20)"
      ],
      "metadata": {
        "id": "j-pFHdyTAOAS"
      },
      "execution_count": 9,
      "outputs": []
    },
    {
      "cell_type": "code",
      "source": [
        "L"
      ],
      "metadata": {
        "colab": {
          "base_uri": "https://localhost:8080/"
        },
        "id": "KzeNNksfAYCd",
        "outputId": "c1af0efb-632b-4e0b-af6f-6a01ee036787"
      },
      "execution_count": 10,
      "outputs": [
        {
          "output_type": "execute_result",
          "data": {
            "text/plain": [
              "['Hello', 'World', 20]"
            ]
          },
          "metadata": {},
          "execution_count": 10
        }
      ]
    },
    {
      "cell_type": "code",
      "source": [
        "sys.getsizeof(L)"
      ],
      "metadata": {
        "colab": {
          "base_uri": "https://localhost:8080/"
        },
        "id": "rMZidpkAAYea",
        "outputId": "6f67c55f-efa5-4ff7-efa0-90597a738900"
      },
      "execution_count": 11,
      "outputs": [
        {
          "output_type": "execute_result",
          "data": {
            "text/plain": [
              "88"
            ]
          },
          "metadata": {},
          "execution_count": 11
        }
      ]
    },
    {
      "cell_type": "code",
      "source": [
        "L.append(30)"
      ],
      "metadata": {
        "id": "alT_YQE6AbB3"
      },
      "execution_count": 12,
      "outputs": []
    },
    {
      "cell_type": "code",
      "source": [
        "L"
      ],
      "metadata": {
        "colab": {
          "base_uri": "https://localhost:8080/"
        },
        "id": "faQhp9nyAmtA",
        "outputId": "58236f5a-82ef-4cb4-fb65-513054779769"
      },
      "execution_count": 13,
      "outputs": [
        {
          "output_type": "execute_result",
          "data": {
            "text/plain": [
              "['Hello', 'World', 20, 30]"
            ]
          },
          "metadata": {},
          "execution_count": 13
        }
      ]
    },
    {
      "cell_type": "code",
      "source": [
        "sys.getsizeof(L)"
      ],
      "metadata": {
        "colab": {
          "base_uri": "https://localhost:8080/"
        },
        "id": "SgGestiNAnN3",
        "outputId": "f45afd1b-21b7-4ba4-d2a9-ee934fc45872"
      },
      "execution_count": 14,
      "outputs": [
        {
          "output_type": "execute_result",
          "data": {
            "text/plain": [
              "88"
            ]
          },
          "metadata": {},
          "execution_count": 14
        }
      ]
    },
    {
      "cell_type": "code",
      "source": [
        "L.append(100)"
      ],
      "metadata": {
        "id": "JS5QIG5bApQW"
      },
      "execution_count": 15,
      "outputs": []
    },
    {
      "cell_type": "code",
      "source": [
        "L"
      ],
      "metadata": {
        "colab": {
          "base_uri": "https://localhost:8080/"
        },
        "id": "hsU-w1B6AvEL",
        "outputId": "d9a9978a-790c-45e5-d949-ba76df147515"
      },
      "execution_count": 16,
      "outputs": [
        {
          "output_type": "execute_result",
          "data": {
            "text/plain": [
              "['Hello', 'World', 20, 30, 100]"
            ]
          },
          "metadata": {},
          "execution_count": 16
        }
      ]
    },
    {
      "cell_type": "code",
      "source": [
        "sys.getsizeof(L)"
      ],
      "metadata": {
        "colab": {
          "base_uri": "https://localhost:8080/"
        },
        "id": "FoaAcNJWAviv",
        "outputId": "7a3915ec-2193-4ed8-f3d4-65b5912addd8"
      },
      "execution_count": 17,
      "outputs": [
        {
          "output_type": "execute_result",
          "data": {
            "text/plain": [
              "120"
            ]
          },
          "metadata": {},
          "execution_count": 17
        }
      ]
    },
    {
      "cell_type": "markdown",
      "source": [
        "From all the above code, we get to know that the size of the List is increasing just like dynamic array."
      ],
      "metadata": {
        "id": "VOZWPmWDAzyH"
      }
    },
    {
      "cell_type": "code",
      "source": [
        "L = []\n",
        "for i in range(100):\n",
        "  print(i,sys.getsizeof(L))\n",
        "  L.append(i)"
      ],
      "metadata": {
        "colab": {
          "base_uri": "https://localhost:8080/"
        },
        "id": "iiwhCoHHAyLb",
        "outputId": "cfa73b60-7c91-4b4b-a010-f69b47bd4472"
      },
      "execution_count": 18,
      "outputs": [
        {
          "output_type": "stream",
          "name": "stdout",
          "text": [
            "0 56\n",
            "1 88\n",
            "2 88\n",
            "3 88\n",
            "4 88\n",
            "5 120\n",
            "6 120\n",
            "7 120\n",
            "8 120\n",
            "9 184\n",
            "10 184\n",
            "11 184\n",
            "12 184\n",
            "13 184\n",
            "14 184\n",
            "15 184\n",
            "16 184\n",
            "17 248\n",
            "18 248\n",
            "19 248\n",
            "20 248\n",
            "21 248\n",
            "22 248\n",
            "23 248\n",
            "24 248\n",
            "25 312\n",
            "26 312\n",
            "27 312\n",
            "28 312\n",
            "29 312\n",
            "30 312\n",
            "31 312\n",
            "32 312\n",
            "33 376\n",
            "34 376\n",
            "35 376\n",
            "36 376\n",
            "37 376\n",
            "38 376\n",
            "39 376\n",
            "40 376\n",
            "41 472\n",
            "42 472\n",
            "43 472\n",
            "44 472\n",
            "45 472\n",
            "46 472\n",
            "47 472\n",
            "48 472\n",
            "49 472\n",
            "50 472\n",
            "51 472\n",
            "52 472\n",
            "53 568\n",
            "54 568\n",
            "55 568\n",
            "56 568\n",
            "57 568\n",
            "58 568\n",
            "59 568\n",
            "60 568\n",
            "61 568\n",
            "62 568\n",
            "63 568\n",
            "64 568\n",
            "65 664\n",
            "66 664\n",
            "67 664\n",
            "68 664\n",
            "69 664\n",
            "70 664\n",
            "71 664\n",
            "72 664\n",
            "73 664\n",
            "74 664\n",
            "75 664\n",
            "76 664\n",
            "77 792\n",
            "78 792\n",
            "79 792\n",
            "80 792\n",
            "81 792\n",
            "82 792\n",
            "83 792\n",
            "84 792\n",
            "85 792\n",
            "86 792\n",
            "87 792\n",
            "88 792\n",
            "89 792\n",
            "90 792\n",
            "91 792\n",
            "92 792\n",
            "93 920\n",
            "94 920\n",
            "95 920\n",
            "96 920\n",
            "97 920\n",
            "98 920\n",
            "99 920\n"
          ]
        }
      ]
    },
    {
      "cell_type": "markdown",
      "source": [
        "From the above loop, size of the list is increasing by 8 automatically which is known as a dynamic array i.e. List."
      ],
      "metadata": {
        "id": "vdq3aOQeBzNx"
      }
    },
    {
      "cell_type": "code",
      "source": [],
      "metadata": {
        "id": "2W1u3DgsBlJX"
      },
      "execution_count": null,
      "outputs": []
    }
  ]
}